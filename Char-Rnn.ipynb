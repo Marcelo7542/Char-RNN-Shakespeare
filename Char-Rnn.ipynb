{
 "cells": [
  {
   "cell_type": "code",
   "execution_count": 9,
   "id": "a925a376-d20c-4dc4-9067-d85d68ca31be",
   "metadata": {},
   "outputs": [],
   "source": [
    "import tensorflow as tf\n",
    "import numpy as np\n",
    "import math"
   ]
  },
  {
   "cell_type": "code",
   "execution_count": 10,
   "id": "dc95860b-b6eb-48cd-a99d-2a3baf2cc716",
   "metadata": {},
   "outputs": [],
   "source": [
    "path = tf.keras.utils.get_file('shakespeare.txt', 'https://homl.info/shakespeare')"
   ]
  },
  {
   "cell_type": "code",
   "execution_count": 11,
   "id": "ada047f0-3b40-4971-8fa2-f1b1b88071ad",
   "metadata": {},
   "outputs": [],
   "source": [
    "with open(path) as o:\n",
    "    Text = o.read()"
   ]
  },
  {
   "cell_type": "code",
   "execution_count": 12,
   "id": "aa44d647-a320-4ff6-aa6f-ea68bd0d403e",
   "metadata": {},
   "outputs": [
    {
     "name": "stdout",
     "output_type": "stream",
     "text": [
      "First Citizen:\n",
      "\n"
     ]
    }
   ],
   "source": [
    "print(Text[:15])"
   ]
  },
  {
   "cell_type": "code",
   "execution_count": 13,
   "id": "1deef9b4-5112-4003-913a-d6f0a0401799",
   "metadata": {},
   "outputs": [],
   "source": [
    "Token = tf.keras.preprocessing.text.Tokenizer(char_level = True)\n",
    "Token.fit_on_texts([Text])"
   ]
  },
  {
   "cell_type": "code",
   "execution_count": 15,
   "id": "c9425ea8-675a-4392-918b-89ae5b39ed2b",
   "metadata": {},
   "outputs": [
    {
     "name": "stdout",
     "output_type": "stream",
     "text": [
      "Distinct characters:  {' ': 1, 'e': 2, 't': 3, 'o': 4, 'a': 5, 'i': 6, 'h': 7, 's': 8, 'r': 9, 'n': 10, '\\n': 11, 'l': 12, 'd': 13, 'u': 14, 'm': 15, 'y': 16, 'w': 17, ',': 18, 'c': 19, 'f': 20, 'g': 21, 'b': 22, 'p': 23, ':': 24, 'k': 25, 'v': 26, '.': 27, \"'\": 28, ';': 29, '?': 30, '!': 31, '-': 32, 'j': 33, 'q': 34, 'x': 35, 'z': 36, '3': 37, '&': 38, '$': 39}\n",
      "-----------------------------------------------\n",
      "Total Distinct characters:  39\n",
      "-----------------------------------------------\n"
     ]
    }
   ],
   "source": [
    "dist_char = Token.word_index\n",
    "n_distC = len(dist_char)\n",
    "print(\"Distinct characters: \", dist_char)\n",
    "print(\"-----------------------------------------------\")\n",
    "print(\"Total Distinct characters: \", n_distC)\n",
    "print(\"-----------------------------------------------\")\n"
   ]
  },
  {
   "cell_type": "code",
   "execution_count": 8,
   "id": "c750e162-6aec-4523-9716-db0f1500608a",
   "metadata": {},
   "outputs": [
    {
     "data": {
      "text/plain": [
       "[[34],\n",
       " [14],\n",
       " [5],\n",
       " [10],\n",
       " [3],\n",
       " [14],\n",
       " [15],\n",
       " [1],\n",
       " [23],\n",
       " [7],\n",
       " [16],\n",
       " [8],\n",
       " [6],\n",
       " [19],\n",
       " [8]]"
      ]
     },
     "execution_count": 8,
     "metadata": {},
     "output_type": "execute_result"
    }
   ],
   "source": [
    "Token.texts_to_sequences(\"quantum physics\")"
   ]
  },
  {
   "cell_type": "code",
   "execution_count": 9,
   "id": "838e229d-ae36-4ed0-99fc-855912bd98e8",
   "metadata": {},
   "outputs": [
    {
     "data": {
      "text/plain": [
       "['q', 'u', 'a', 'n', 't', 'u', 'm', ' ', 'p', 'h', 'y', 's', 'i', 'c', 's']"
      ]
     },
     "execution_count": 9,
     "metadata": {},
     "output_type": "execute_result"
    }
   ],
   "source": [
    "Token.sequences_to_texts([[34],\n",
    " [14],\n",
    " [5],\n",
    " [10],\n",
    " [3],\n",
    " [14],\n",
    " [15],\n",
    " [1],\n",
    " [23],\n",
    " [7],\n",
    " [16],\n",
    " [8],\n",
    " [6],\n",
    " [19],\n",
    " [8]])"
   ]
  },
  {
   "cell_type": "code",
   "execution_count": 10,
   "id": "84123a39-e026-46d3-9190-e8f11a3bc51f",
   "metadata": {},
   "outputs": [],
   "source": [
    "[text_encoded] = np.array(Token.texts_to_sequences([Text])) - 1"
   ]
  },
  {
   "cell_type": "code",
   "execution_count": 11,
   "id": "71096b91-d9d8-48fa-aeb2-6b81c63fb62e",
   "metadata": {},
   "outputs": [
    {
     "name": "stdout",
     "output_type": "stream",
     "text": [
      "First Citizen:\n",
      "\n",
      "[19  5  8  7  2  0 18  5  2  5 35  1  9 23 10]\n"
     ]
    }
   ],
   "source": [
    "print(Text[:15])\n",
    "print(text_encoded[:15])"
   ]
  },
  {
   "cell_type": "code",
   "execution_count": 12,
   "id": "bfb965c9-b199-4aee-8602-6de1e31ff6d3",
   "metadata": {},
   "outputs": [
    {
     "name": "stdout",
     "output_type": "stream",
     "text": [
      "1115394\n"
     ]
    }
   ],
   "source": [
    "text_size = len(Text)\n",
    "print(text_size)"
   ]
  },
  {
   "cell_type": "code",
   "execution_count": 13,
   "id": "2cbe5c4e-3a17-4bec-96bd-6f8afc42f988",
   "metadata": {},
   "outputs": [
    {
     "name": "stdout",
     "output_type": "stream",
     "text": [
      "892315\n",
      "<_TensorSliceDataset element_spec=TensorSpec(shape=(), dtype=tf.int32, name=None)>\n"
     ]
    }
   ],
   "source": [
    "train_size = int(text_size * 0.80)\n",
    "print(train_size)\n",
    "train_dataset = tf.data.Dataset.from_tensor_slices(text_encoded[:train_size])\n",
    "val_dataset = tf.data.Dataset.from_tensor_slices(text_encoded[train_size:])\n",
    "print(train_dataset)"
   ]
  },
  {
   "cell_type": "code",
   "execution_count": 14,
   "id": "d225d8ad-7fa8-4c0d-94ed-39cfe9a207ba",
   "metadata": {},
   "outputs": [
    {
     "name": "stdout",
     "output_type": "stream",
     "text": [
      "<_WindowDataset element_spec=DatasetSpec(TensorSpec(shape=(), dtype=tf.int32, name=None), TensorShape([]))>\n",
      "<_FlatMapDataset element_spec=TensorSpec(shape=(None,), dtype=tf.int32, name=None)>\n"
     ]
    }
   ],
   "source": [
    "n_sequences = 100\n",
    "Window_size = n_sequences + 1\n",
    "train_dataset = train_dataset.window(Window_size, shift=1, drop_remainder=True)\n",
    "val_dataset = val_dataset.window(Window_size, shift=1, drop_remainder=True)\n",
    "print(train_dataset)\n",
    "train_dataset = train_dataset.flat_map(lambda w: w.batch(Window_size))\n",
    "val_dataset = val_dataset.flat_map(lambda w: w.batch(Window_size))\n",
    "print(train_dataset)"
   ]
  },
  {
   "cell_type": "code",
   "execution_count": 15,
   "id": "f17e7fb1-f294-49f2-9672-fa205d8ab055",
   "metadata": {},
   "outputs": [
    {
     "name": "stdout",
     "output_type": "stream",
     "text": [
      "<_BatchDataset element_spec=TensorSpec(shape=(None, None), dtype=tf.int32, name=None)>\n",
      "<_MapDataset element_spec=(TensorSpec(shape=(None, None, 39), dtype=tf.float32, name=None), TensorSpec(shape=(None, None), dtype=tf.int32, name=None))>\n"
     ]
    }
   ],
   "source": [
    "batch_size = 32\n",
    "train_dataset = train_dataset.shuffle(20000).batch(batch_size)\n",
    "val_dataset = val_dataset.batch(batch_size)\n",
    "print(train_dataset)\n",
    "train_dataset = train_dataset.map(lambda w: (w[:, :-1], w[:, 1:]))\n",
    "train_dataset = train_dataset.map(lambda X, Y: (tf.one_hot(X, depth=n_distC), Y))\n",
    "val_dataset = val_dataset.map(lambda w: (w[:, :-1], w[:, 1:]))\n",
    "val_dataset = val_dataset.map(lambda X, Y: (tf.one_hot(X, depth=n_distC), Y))\n",
    "print(train_dataset)\n",
    "train_dataset = train_dataset.prefetch(tf.data.AUTOTUNE)\n",
    "val_dataset = val_dataset.prefetch(tf.data.AUTOTUNE)\n"
   ]
  },
  {
   "cell_type": "code",
   "execution_count": 16,
   "id": "8d2e4ccc-a91d-4007-9d6b-5f3b447df465",
   "metadata": {},
   "outputs": [
    {
     "name": "stdout",
     "output_type": "stream",
     "text": [
      "Número total de batches no train_dataset: 27882\n"
     ]
    }
   ],
   "source": [
    "num_batches = sum(1 for _ in train_dataset)\n",
    "print(\"Número total de batches no train_dataset:\", num_batches)"
   ]
  },
  {
   "cell_type": "code",
   "execution_count": 17,
   "id": "f9188a32-4ddc-4757-9bd4-9542b539f898",
   "metadata": {},
   "outputs": [
    {
     "name": "stderr",
     "output_type": "stream",
     "text": [
      "C:\\Users\\marce\\anaconda4\\Lib\\site-packages\\keras\\src\\layers\\rnn\\rnn.py:200: UserWarning: Do not pass an `input_shape`/`input_dim` argument to a layer. When using Sequential models, prefer using an `Input(shape)` object as the first layer in the model instead.\n",
      "  super().__init__(**kwargs)\n"
     ]
    }
   ],
   "source": [
    "model = tf.keras.Sequential([\n",
    "        tf.keras.layers.GRU(128, return_sequences=True, dropout=0.2, input_shape=[None, n_distC]),\n",
    "        tf.keras.layers.GRU(128, return_sequences=True, dropout=0.2,),\n",
    "        tf.keras.layers.TimeDistributed(tf.keras.layers.Dense(n_distC, activation='softmax'))\n",
    "])"
   ]
  },
  {
   "cell_type": "code",
   "execution_count": 18,
   "id": "08a1b7b8-a40c-4e04-ad97-0e5821ae09ca",
   "metadata": {},
   "outputs": [],
   "source": [
    "checkpoint_callback = tf.keras.callbacks.ModelCheckpoint('model.keras', monitor='accuracy', save_best_only=False, mode='max', verbose=1, save_freq=100)\n",
    "\n",
    "early_stopping = tf.keras.callbacks.EarlyStopping(\n",
    "    monitor='accuracy',\n",
    "    patience=5,    \n",
    "    restore_best_weights=True\n",
    ")\n",
    "backup_restore_callback = tf.keras.callbacks.BackupAndRestore(\n",
    "    backup_dir='./backups', \n",
    "    save_freq=50\n",
    ")"
   ]
  },
  {
   "cell_type": "code",
   "execution_count": 19,
   "id": "c9e67998-c6d2-468e-bf6f-20a8db7c2465",
   "metadata": {},
   "outputs": [],
   "source": [
    "model.compile(loss=\"sparse_categorical_crossentropy\", optimizer=tf.keras.optimizers.Nadam(), metrics=['accuracy'])"
   ]
  },
  {
   "cell_type": "code",
   "execution_count": null,
   "id": "b4227571-8593-480f-88bb-494b311b57e3",
   "metadata": {},
   "outputs": [],
   "source": [
    "history = model.fit(train_dataset, epochs=10, validation_data=val_dataset, callbacks=[early_stopping, checkpoint_callback, backup_restore_callback] )"
   ]
  },
  {
   "cell_type": "code",
   "execution_count": 16,
   "id": "3a60831c-e0aa-450e-8a70-c31012929756",
   "metadata": {},
   "outputs": [],
   "source": [
    "model = tf.keras.models.load_model('model.keras')"
   ]
  },
  {
   "cell_type": "code",
   "execution_count": 17,
   "id": "c4f23838-dbd3-4e72-a65f-3544d13f2f88",
   "metadata": {},
   "outputs": [],
   "source": [
    "def preprocess(texts):\n",
    "    X = np.array(Token.texts_to_sequences(texts)) - 1\n",
    "    return tf.one_hot(X, n_distC)"
   ]
  },
  {
   "cell_type": "code",
   "execution_count": 18,
   "id": "6cf54b80-af93-4c73-8ae9-f9144eae4ff3",
   "metadata": {},
   "outputs": [
    {
     "data": {
      "text/plain": [
       "'i'"
      ]
     },
     "execution_count": 18,
     "metadata": {},
     "output_type": "execute_result"
    }
   ],
   "source": [
    "X_new = preprocess([\"Just nlp and not Sk\"])\n",
    "Y_pred = np.argmax(model(X_new), axis=-1)\n",
    "Token.sequences_to_texts(Y_pred + 1)[0][-1]"
   ]
  },
  {
   "cell_type": "code",
   "execution_count": 19,
   "id": "4fce40c8-45dd-4454-9d25-2f771c4380ab",
   "metadata": {},
   "outputs": [],
   "source": [
    "def next_char(text, risk = 1):\n",
    "    X_new = preprocess([text])\n",
    "    y_proba = model.predict(X_new)[0, -1:, :]\n",
    "    y_proba_rescaled = np.log(y_proba) / risk\n",
    "    char_id = tf.random.categorical(y_proba_rescaled, num_samples=1) + 1\n",
    "    return Token.sequences_to_texts(char_id.numpy())[0]"
   ]
  },
  {
   "cell_type": "code",
   "execution_count": 20,
   "id": "5249a3b1-359a-473a-9957-1b4722e88679",
   "metadata": {},
   "outputs": [],
   "source": [
    "def create_text(text, n_chars=80, risk=1):\n",
    "     for _ in range(n_chars):\n",
    "         text += next_char(text, risk)\n",
    "     return text"
   ]
  },
  {
   "cell_type": "code",
   "execution_count": 21,
   "id": "8c0f3744-8b23-4dfb-8d80-ddbfcd304b8b",
   "metadata": {},
   "outputs": [
    {
     "name": "stdout",
     "output_type": "stream",
     "text": [
      "\u001b[1m1/1\u001b[0m \u001b[32m━━━━━━━━━━━━━━━━━━━━\u001b[0m\u001b[37m\u001b[0m \u001b[1m4s\u001b[0m 4s/step\n",
      "\u001b[1m1/1\u001b[0m \u001b[32m━━━━━━━━━━━━━━━━━━━━\u001b[0m\u001b[37m\u001b[0m \u001b[1m3s\u001b[0m 3s/step\n",
      "\u001b[1m1/1\u001b[0m \u001b[32m━━━━━━━━━━━━━━━━━━━━\u001b[0m\u001b[37m\u001b[0m \u001b[1m0s\u001b[0m 108ms/step\n",
      "\u001b[1m1/1\u001b[0m \u001b[32m━━━━━━━━━━━━━━━━━━━━\u001b[0m\u001b[37m\u001b[0m \u001b[1m0s\u001b[0m 128ms/step\n",
      "\u001b[1m1/1\u001b[0m \u001b[32m━━━━━━━━━━━━━━━━━━━━\u001b[0m\u001b[37m\u001b[0m \u001b[1m0s\u001b[0m 82ms/step\n",
      "\u001b[1m1/1\u001b[0m \u001b[32m━━━━━━━━━━━━━━━━━━━━\u001b[0m\u001b[37m\u001b[0m \u001b[1m0s\u001b[0m 95ms/step\n",
      "\u001b[1m1/1\u001b[0m \u001b[32m━━━━━━━━━━━━━━━━━━━━\u001b[0m\u001b[37m\u001b[0m \u001b[1m0s\u001b[0m 101ms/step\n",
      "\u001b[1m1/1\u001b[0m \u001b[32m━━━━━━━━━━━━━━━━━━━━\u001b[0m\u001b[37m\u001b[0m \u001b[1m0s\u001b[0m 88ms/step\n",
      "\u001b[1m1/1\u001b[0m \u001b[32m━━━━━━━━━━━━━━━━━━━━\u001b[0m\u001b[37m\u001b[0m \u001b[1m0s\u001b[0m 97ms/step\n",
      "\u001b[1m1/1\u001b[0m \u001b[32m━━━━━━━━━━━━━━━━━━━━\u001b[0m\u001b[37m\u001b[0m \u001b[1m0s\u001b[0m 83ms/step\n",
      "\u001b[1m1/1\u001b[0m \u001b[32m━━━━━━━━━━━━━━━━━━━━\u001b[0m\u001b[37m\u001b[0m \u001b[1m0s\u001b[0m 85ms/step\n",
      "\u001b[1m1/1\u001b[0m \u001b[32m━━━━━━━━━━━━━━━━━━━━\u001b[0m\u001b[37m\u001b[0m \u001b[1m0s\u001b[0m 94ms/step\n",
      "\u001b[1m1/1\u001b[0m \u001b[32m━━━━━━━━━━━━━━━━━━━━\u001b[0m\u001b[37m\u001b[0m \u001b[1m0s\u001b[0m 88ms/step\n",
      "\u001b[1m1/1\u001b[0m \u001b[32m━━━━━━━━━━━━━━━━━━━━\u001b[0m\u001b[37m\u001b[0m \u001b[1m0s\u001b[0m 94ms/step\n",
      "\u001b[1m1/1\u001b[0m \u001b[32m━━━━━━━━━━━━━━━━━━━━\u001b[0m\u001b[37m\u001b[0m \u001b[1m0s\u001b[0m 97ms/step\n",
      "\u001b[1m1/1\u001b[0m \u001b[32m━━━━━━━━━━━━━━━━━━━━\u001b[0m\u001b[37m\u001b[0m \u001b[1m0s\u001b[0m 90ms/step\n",
      "\u001b[1m1/1\u001b[0m \u001b[32m━━━━━━━━━━━━━━━━━━━━\u001b[0m\u001b[37m\u001b[0m \u001b[1m0s\u001b[0m 143ms/step\n",
      "\u001b[1m1/1\u001b[0m \u001b[32m━━━━━━━━━━━━━━━━━━━━\u001b[0m\u001b[37m\u001b[0m \u001b[1m0s\u001b[0m 86ms/step\n",
      "\u001b[1m1/1\u001b[0m \u001b[32m━━━━━━━━━━━━━━━━━━━━\u001b[0m\u001b[37m\u001b[0m \u001b[1m0s\u001b[0m 97ms/step\n",
      "\u001b[1m1/1\u001b[0m \u001b[32m━━━━━━━━━━━━━━━━━━━━\u001b[0m\u001b[37m\u001b[0m \u001b[1m0s\u001b[0m 89ms/step\n",
      "thy mother, so so much \n"
     ]
    }
   ],
   "source": [
    "print(create_text(\"thy\", n_chars=20, risk=1))"
   ]
  },
  {
   "cell_type": "code",
   "execution_count": null,
   "id": "5c235b9a-1a3f-4200-9b0f-f5bf2474f247",
   "metadata": {},
   "outputs": [],
   "source": [
    "#%pip install transformers\n",
    "#%pip install torch\n",
    "#%pip install tf-keras"
   ]
  },
  {
   "cell_type": "code",
   "execution_count": null,
   "id": "de7b0296-2369-4d80-b71a-5b8611c5bf10",
   "metadata": {},
   "outputs": [],
   "source": [
    "from transformers import TFOpenAIGPTLMHeadModel, OpenAIGPTTokenizer\n",
    "model = TFOpenAIGPTLMHeadModel.from_pretrained(\"openai-gpt\")\n",
    "tokenizer = OpenAIGPTTokenizer.from_pretrained(\"openai-gpt\")\n",
    "text = \"Skynet will\"\n",
    "inputs = tokenizer.encode(text, return_tensors=\"tf\") \n",
    "output = model.generate(inputs, max_length=50, num_return_sequences=1, temperature=0.7)\n",
    "generated_text = tokenizer.decode(output[0], skip_special_tokens=True)\n"
   ]
  },
  {
   "cell_type": "code",
   "execution_count": 63,
   "id": "cd5c4d34-e965-4673-b974-4cc633d9f66c",
   "metadata": {},
   "outputs": [
    {
     "name": "stdout",
     "output_type": "stream",
     "text": [
      "skynet will be able to get to the bottom of this . \" \n",
      " \" i 'm not sure i can do that , \" said the captain . \" i 'm not sure i can even get to the bottom of this . \" \n",
      " \" i 'm\n"
     ]
    }
   ],
   "source": [
    "print(generated_text)"
   ]
  },
  {
   "cell_type": "code",
   "execution_count": null,
   "id": "bb00333e-b3b9-4b63-a445-ad50be83bdc6",
   "metadata": {},
   "outputs": [],
   "source": []
  },
  {
   "cell_type": "code",
   "execution_count": null,
   "id": "4ecb0c8f-5dd1-4262-83ca-8c53bee5a7bb",
   "metadata": {},
   "outputs": [],
   "source": []
  }
 ],
 "metadata": {
  "kernelspec": {
   "display_name": "Python 3 (ipykernel)",
   "language": "python",
   "name": "python3"
  },
  "language_info": {
   "codemirror_mode": {
    "name": "ipython",
    "version": 3
   },
   "file_extension": ".py",
   "mimetype": "text/x-python",
   "name": "python",
   "nbconvert_exporter": "python",
   "pygments_lexer": "ipython3",
   "version": "3.11.7"
  }
 },
 "nbformat": 4,
 "nbformat_minor": 5
}
